{
 "cells": [
  {
   "cell_type": "code",
   "execution_count": 3,
   "metadata": {},
   "outputs": [],
   "source": [
    "import pandas as pd\n",
    "# importing Covid API cases as json into dataframe\n",
    "url = \"https://api.opencovid.ca/timeseries?stat=cases&geo=pt&fill=true&version=true&pt_names=canonical&hr_names=hruid&legacy=false&fmt=json\"  # replace with your URL\n",
    "df = pd.read_json(url)"
   ]
  },
  {
   "cell_type": "code",
   "execution_count": 4,
   "metadata": {},
   "outputs": [
    {
     "data": {
      "text/html": [
       "<div>\n",
       "<style scoped>\n",
       "    .dataframe tbody tr th:only-of-type {\n",
       "        vertical-align: middle;\n",
       "    }\n",
       "\n",
       "    .dataframe tbody tr th {\n",
       "        vertical-align: top;\n",
       "    }\n",
       "\n",
       "    .dataframe thead th {\n",
       "        text-align: right;\n",
       "    }\n",
       "</style>\n",
       "<table border=\"1\" class=\"dataframe\">\n",
       "  <thead>\n",
       "    <tr style=\"text-align: right;\">\n",
       "      <th></th>\n",
       "      <th>data</th>\n",
       "      <th>version</th>\n",
       "    </tr>\n",
       "  </thead>\n",
       "  <tbody>\n",
       "    <tr>\n",
       "      <th>cases</th>\n",
       "      <td>[{'name': 'cases', 'region': 'Alberta', 'date'...</td>\n",
       "      <td>2023-11-18 12:08 EST</td>\n",
       "    </tr>\n",
       "  </tbody>\n",
       "</table>\n",
       "</div>"
      ],
      "text/plain": [
       "                                                    data               version\n",
       "cases  [{'name': 'cases', 'region': 'Alberta', 'date'...  2023-11-18 12:08 EST"
      ]
     },
     "execution_count": 4,
     "metadata": {},
     "output_type": "execute_result"
    }
   ],
   "source": [
    "# this lists the cases columns as the datraframe, not the actual data\n",
    "df"
   ]
  },
  {
   "cell_type": "code",
   "execution_count": 13,
   "metadata": {},
   "outputs": [
    {
     "name": "stdout",
     "output_type": "stream",
     "text": [
      "dict_keys(['data', 'version'])\n"
     ]
    },
    {
     "data": {
      "text/html": [
       "<div>\n",
       "<style scoped>\n",
       "    .dataframe tbody tr th:only-of-type {\n",
       "        vertical-align: middle;\n",
       "    }\n",
       "\n",
       "    .dataframe tbody tr th {\n",
       "        vertical-align: top;\n",
       "    }\n",
       "\n",
       "    .dataframe thead th {\n",
       "        text-align: right;\n",
       "    }\n",
       "</style>\n",
       "<table border=\"1\" class=\"dataframe\">\n",
       "  <thead>\n",
       "    <tr style=\"text-align: right;\">\n",
       "      <th></th>\n",
       "      <th>cases</th>\n",
       "    </tr>\n",
       "  </thead>\n",
       "  <tbody>\n",
       "    <tr>\n",
       "      <th>0</th>\n",
       "      <td>[{'name': 'cases', 'region': 'Alberta', 'date'...</td>\n",
       "    </tr>\n",
       "  </tbody>\n",
       "</table>\n",
       "</div>"
      ],
      "text/plain": [
       "                                               cases\n",
       "0  [{'name': 'cases', 'region': 'Alberta', 'date'..."
      ]
     },
     "execution_count": 13,
     "metadata": {},
     "output_type": "execute_result"
    }
   ],
   "source": [
    "import requests\n",
    "\n",
    "# Get the data from the API\n",
    "url = \"https://api.opencovid.ca/timeseries?stat=cases&geo=pt&fill=true&version=true&pt_names=canonical&hr_names=hruid&legacy=false&fmt=json\"\n",
    "data = requests.get(url).json()\n",
    "print(data.keys())\n",
    "# Normalize the 'data' data\n",
    "df = pd.json_normalize(data['data'])\n",
    "# this does not capture the case data\n"
   ]
  },
  {
   "cell_type": "code",
   "execution_count": 18,
   "metadata": {},
   "outputs": [
    {
     "name": "stdout",
     "output_type": "stream",
     "text": [
      "        name   region        date   value  value_daily\n",
      "0      cases  Alberta  2020-01-23     0.0          0.0\n",
      "1      cases  Alberta  2020-01-24     0.0          0.0\n",
      "2      cases  Alberta  2020-01-25     0.0          0.0\n",
      "3      cases  Alberta  2020-01-26     0.0          0.0\n",
      "4      cases  Alberta  2020-01-27     0.0          0.0\n",
      "...      ...      ...         ...     ...          ...\n",
      "18182  cases    Yukon  2023-11-17  5588.0          0.0\n",
      "18183  cases    Yukon  2023-11-18  5588.0          0.0\n",
      "18184  cases    Yukon  2023-11-19  5588.0          0.0\n",
      "18185  cases    Yukon  2023-11-20  5588.0          0.0\n",
      "18186  cases    Yukon  2023-11-21  5588.0          0.0\n",
      "\n",
      "[18187 rows x 5 columns]\n"
     ]
    }
   ],
   "source": [
    "# Extract the 'cases' data\n",
    "cases_data = data['data']['cases']\n",
    "\n",
    "# Normalize the 'cases' data\n",
    "df_cases = pd.json_normalize(cases_data)\n",
    "\n",
    "# Now 'df_cases' should be a DataFrame with each case as a row and the case attributes as columns\n",
    "print(df_cases)"
   ]
  }
 ],
 "metadata": {
  "kernelspec": {
   "display_name": "base",
   "language": "python",
   "name": "python3"
  },
  "language_info": {
   "codemirror_mode": {
    "name": "ipython",
    "version": 3
   },
   "file_extension": ".py",
   "mimetype": "text/x-python",
   "name": "python",
   "nbconvert_exporter": "python",
   "pygments_lexer": "ipython3",
   "version": "3.11.5"
  }
 },
 "nbformat": 4,
 "nbformat_minor": 2
}
